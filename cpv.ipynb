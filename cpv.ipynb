{
 "cells": [
  {
   "cell_type": "code",
   "execution_count": null,
   "id": "81cccbd6",
   "metadata": {},
   "outputs": [],
   "source": [
    "#if you haven't already installed fathomdata in your environment, uncomment and run this line\n",
    "#!pip install fathomdata"
   ]
  },
  {
   "cell_type": "code",
   "execution_count": null,
   "id": "f515027b",
   "metadata": {},
   "outputs": [],
   "source": [
    "from bokeh.plotting import figure, output_notebook, show\n",
    "import fathomdata as fd\n",
    "\n",
    "output_notebook()"
   ]
  },
  {
   "cell_type": "code",
   "execution_count": null,
   "id": "de5a93e1",
   "metadata": {},
   "outputs": [],
   "source": [
    "#load the data\n",
    "df = fd.load_dataset(\"titer\")\n",
    "df.head()"
   ]
  },
  {
   "cell_type": "code",
   "execution_count": null,
   "id": "35703320",
   "metadata": {},
   "outputs": [],
   "source": [
    "#make the figure\n",
    "fig = fd.control_chart(df)\n",
    "show(fig)"
   ]
  },
  {
   "cell_type": "code",
   "execution_count": null,
   "id": "00ae9cae",
   "metadata": {},
   "outputs": [],
   "source": [
    "fig = fd.control_chart(df, calibration_set=df.index < 5)\n",
    "show(fig)"
   ]
  }
 ],
 "metadata": {
  "hide_input": false,
  "kernelspec": {
   "display_name": "Python 3 (ipykernel)",
   "language": "python",
   "name": "python3"
  },
  "language_info": {
   "codemirror_mode": {
    "name": "ipython",
    "version": 3
   },
   "file_extension": ".py",
   "mimetype": "text/x-python",
   "name": "python",
   "nbconvert_exporter": "python",
   "pygments_lexer": "ipython3",
   "version": "3.8.2"
  }
 },
 "nbformat": 4,
 "nbformat_minor": 5
}

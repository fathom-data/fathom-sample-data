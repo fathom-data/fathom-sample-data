{
 "cells": [
  {
   "source": [
    "# Get Set Up\n",
    "\n",
    "Import bokeh and fathomdata library in the notebook. Using Bokeh allows us to render interactive graphs within the notebook."
   ],
   "cell_type": "markdown",
   "metadata": {}
  },
  {
   "cell_type": "code",
   "execution_count": null,
   "id": "81cccbd6",
   "metadata": {},
   "outputs": [],
   "source": [
    "#if you do not already have fathomdata installed in your environment, uncomment and run this line (keep the exclamation mark)\n",
    "#!pip install fathomdata"
   ]
  },
  {
   "cell_type": "code",
   "execution_count": null,
   "id": "f515027b",
   "metadata": {},
   "outputs": [],
   "source": [
    "from bokeh.plotting import figure, output_notebook, show\n",
    "import fathomdata as fd\n",
    "\n",
    "output_notebook()"
   ]
  },
  {
   "source": [
    "# Create a Control Chart\n",
    "\n",
    "Load sample data to use for this tutorial. In the sample data, a titer metric was collected over a series of batches for a monoclonal antibody manufacturing campaign.\n",
    "\n",
    "Use your own data too, if you have it. The data should be a pandas.DataFrame with columns similar to the sample data below."
   ],
   "cell_type": "markdown",
   "metadata": {}
  },
  {
   "cell_type": "code",
   "execution_count": null,
   "id": "de5a93e1",
   "metadata": {},
   "outputs": [],
   "source": [
    "#load the data\n",
    "df = fd.load_dataset(\"titer\")\n",
    "df.head()"
   ]
  },
  {
   "cell_type": "code",
   "execution_count": null,
   "id": "35703320",
   "metadata": {},
   "outputs": [],
   "source": [
    "#make the figure\n",
    "fig = fd.control_chart(df)\n",
    "show(fig)"
   ]
  },
  {
   "source": [
    "**Good news — this process is in control!**\n",
    "\n",
    "The graph above in interactive. You can zoom in and hover over points to get additional context.\n",
    "\n",
    "Notice that when the control chart is created, it automatically runs common statistical process control tests."
   ],
   "cell_type": "markdown",
   "metadata": {}
  },
  {
   "source": [
    "# Adjust the Control Limits\n",
    "\n",
    "Control charts need to reflect real-world context.\n",
    "\n",
    "In the dataset above, a process change was implemented starting with batch 5. We want to know if this change impacted our control of this critical process parameter. We test this hypothesis by explicitly setting the calibration set to compute the control limits only on the first five batches.\n"
   ],
   "cell_type": "markdown",
   "metadata": {}
  },
  {
   "cell_type": "code",
   "execution_count": null,
   "id": "00ae9cae",
   "metadata": {},
   "outputs": [],
   "source": [
    "fig = fd.control_chart(df, calibration_set=df.index < 5)\n",
    "show(fig)"
   ]
  },
  {
   "source": [
    "We find that one of the batches was more than 3 sigma away from the center line of the calibration set. Hovering over that point, we see that is associated with a known batch deviation that may have an explanation for this outlier. This trend might be early evidence that the process change is not yet well controlled, or may be explained by the deviation."
   ],
   "cell_type": "markdown",
   "metadata": {}
  },
  {
   "cell_type": "code",
   "execution_count": null,
   "metadata": {},
   "outputs": [],
   "source": []
  }
 ],
 "metadata": {
  "hide_input": false,
  "kernelspec": {
   "display_name": "Python 3 (ipykernel)",
   "language": "python",
   "name": "python3"
  },
  "language_info": {
   "codemirror_mode": {
    "name": "ipython",
    "version": 3
   },
   "file_extension": ".py",
   "mimetype": "text/x-python",
   "name": "python",
   "nbconvert_exporter": "python",
   "pygments_lexer": "ipython3",
   "version": "3.8.2"
  }
 },
 "nbformat": 4,
 "nbformat_minor": 5
}
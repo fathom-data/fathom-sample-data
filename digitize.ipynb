{
 "cells": [
  {
   "cell_type": "code",
   "execution_count": null,
   "id": "f515027b",
   "metadata": {},
   "outputs": [],
   "source": [
    "import os\n",
    "\n",
    "from bokeh.io import show, output_notebook\n",
    "import fathomdata as fd"
   ]
  },
  {
   "cell_type": "code",
   "execution_count": null,
   "id": "14acb207",
   "metadata": {},
   "outputs": [],
   "source": [
    "output_notebook()"
   ]
  },
  {
   "cell_type": "code",
   "execution_count": null,
   "id": "a1575362",
   "metadata": {},
   "outputs": [],
   "source": [
    "api_key = \"your-key-here\" #os.environ[\"FATHOM_API_KEY\"]\n",
    "fd.set_api_key(<your-api-key>)"
   ]
  },
  {
   "cell_type": "code",
   "execution_count": null,
   "id": "4a273fd2",
   "metadata": {},
   "outputs": [],
   "source": [
    "# open the batch record on your computer to see it locally\n",
    "!open batch1.pdf"
   ]
  },
  {
   "cell_type": "code",
   "execution_count": null,
   "id": "b949b06f",
   "metadata": {},
   "outputs": [],
   "source": [
    "new_doc_id=fd.ingest_document(path=\"batch1.pdf\")\n",
    "print(f\"The newly ingested document has the key {}\".format(new_doc_id))"
   ]
  },
  {
   "cell_type": "code",
   "execution_count": null,
   "id": "cf4ae171",
   "metadata": {},
   "outputs": [],
   "source": [
    "#see the new doc ID\n",
    "fd.available_documents()"
   ]
  },
  {
   "cell_type": "code",
   "execution_count": null,
   "id": "9c0f9c83",
   "metadata": {},
   "outputs": [],
   "source": [
    "doc = fd.get_document(new_doc_id)"
   ]
  },
  {
   "cell_type": "code",
   "execution_count": null,
   "id": "05523315",
   "metadata": {},
   "outputs": [],
   "source": [
    "doc.get_parameters_df()"
   ]
  }
 ],
 "metadata": {
  "hide_input": false,
  "kernelspec": {
   "display_name": "Python 3 (ipykernel)",
   "language": "python",
   "name": "python3"
  },
  "language_info": {
   "codemirror_mode": {
    "name": "ipython",
    "version": 3
   },
   "file_extension": ".py",
   "mimetype": "text/x-python",
   "name": "python",
   "nbconvert_exporter": "python",
   "pygments_lexer": "ipython3",
   "version": "3.8.2"
  }
 },
 "nbformat": 4,
 "nbformat_minor": 5
}

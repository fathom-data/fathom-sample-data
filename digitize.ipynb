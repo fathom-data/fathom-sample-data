{
 "cells": [
  {
   "source": [
    "# Digitize a Batch Record\n",
    "Critical process data shouldn’t stay trapped in PDFs. But PDFs are messy (like the documents below). They have a mix of handwriting and text. They can be skewed and blurry.\n",
    "\n",
    "Digitizing batch records allows you to start to analyze the data from a batch record PDFs in less than five minutes."
   ],
   "cell_type": "markdown",
   "metadata": {}
  },
  {
   "cell_type": "code",
   "execution_count": null,
   "id": "81cccbd6",
   "metadata": {},
   "outputs": [],
   "source": [
    "#if you do not already have fathomdata installed in your environment, uncomment and run this line (keep the exclamation mark)\n",
    "#!pip install fathomdata"
   ]
  },
  {
   "cell_type": "code",
   "execution_count": null,
   "id": "f515027b",
   "metadata": {},
   "outputs": [],
   "source": [
    "import fathomdata as fd"
   ]
  },
  {
   "source": [
    "# Add Your API Key\n",
    "\n",
    "You'll need a temporary API key to use this tutorial. If you don't have one already, head [here](https://docs.fathom.one/batch-record-digitization.html#get-an-api-key). Then, set your apikey using the code below.\n",
    "\n",
    "Tip: \n",
    "\n",
    "We prefer to keep our api as an environment variable to keep to safe, and to prevent us from accidentally checking it into source control. If you do that here's what your code might look like\n",
    "\n",
    "    import os\n",
    "    os.environ[\"FATHOM_API_KEY\"] = \"your-api-key-here\"\n",
    "\n",
    "You can also add this line to the activate file of your virtual environment (`venv/bin/activate`) so it is available everytime you use your environment\n",
    "\n",
    "    export FATHOM_API_KEY=your-api-key-here\n",
    "\n",
    "Then when you need to set the api-key within your code you can do something like this:\n",
    "\n",
    "    import os\n",
    "    fd.set_api_key(os.environ[\"FATHOM_API_KEY\"])"
   ],
   "cell_type": "markdown",
   "metadata": {}
  },
  {
   "cell_type": "code",
   "execution_count": null,
   "id": "de5a93e1",
   "metadata": {},
   "outputs": [],
   "source": [
    "fd.set_api_key('your-api-key-goes-here')"
   ]
  },
  {
   "source": [
    "# Get a Sample Batch Record\n",
    "\n",
    "Download a sample batch record [click here](https://github.com/fathom-data/fathom-sample-data/raw/main/batch1.pdf), or use the code below to download it programmatically."
   ],
   "cell_type": "markdown",
   "metadata": {}
  },
  {
   "cell_type": "code",
   "execution_count": null,
   "id": "35703320",
   "metadata": {},
   "outputs": [],
   "source": [
    "with open(\"batch1.pdf\", \"wb\") as f:\n",
    "    pdf = fd.get_sample_batch_record(\"batch1\")\n",
    "    f.write(pdf)"
   ]
  },
  {
   "cell_type": "code",
   "execution_count": null,
   "metadata": {},
   "outputs": [],
   "source": [
    "# open the batch record programmatically\n",
    "#!open batch.pdf"
   ]
  },
  {
   "source": [
    "Take a moment to look at the example batch record PDF. If you didn’t change the path above, the PDF will be saved in your current working directory. You can also open it programmatically using the code above.\n",
    "\n",
    "This batch record contains many different types of data from raw material sources to process metrics. There is a mix of handwritten and typed text and the formatting varies throughout the record. For this tutorial, we’ll focus on extracting and cleaning any type of data stored in a table (but this is just the start!)."
   ],
   "cell_type": "markdown",
   "metadata": {}
  },
  {
   "source": [
    "# Ingest the Batch Record\n",
    "\n",
    "Control charts need to reflect real-world context.\n",
    "\n",
    "In the dataset above, a process change was implemented starting with batch 5. We want to know if this change impacted our control of this critical process parameter. We test this hypothesis by explicitly setting the calibration set to compute the control limits only on the first five batches.\n"
   ],
   "cell_type": "markdown",
   "metadata": {}
  },
  {
   "cell_type": "code",
   "execution_count": null,
   "id": "00ae9cae",
   "metadata": {},
   "outputs": [],
   "source": [
    "new_doc_id = fd.ingest_document(\"batch1.pdf\") #update path to download location if you changed it\n",
    "print(f\"Ingested document with ID {new_doc_id}\")"
   ]
  },
  {
   "source": [
    "That’s it! Check that the ingest was successful by listing the available records. This might take a moment."
   ],
   "cell_type": "markdown",
   "metadata": {}
  },
  {
   "cell_type": "code",
   "execution_count": null,
   "metadata": {},
   "outputs": [],
   "source": [
    "df = fd.available_documents()\n",
    "df.head()"
   ]
  },
  {
   "source": [
    "If the df syntax look familiar, that’s because fathomdata is built on top of [pandas](https://pandas.pydata.org/). You can interact with this record dataframe using all the pandas [slicing and indexing tools](https://pandas.pydata.org/docs/user_guide/indexing.html).\n",
    "\n",
    "Take a moment to repeat the process and digitize a new sample record. Download the [batch12.pdf](https://github.com/fathom-data/fathom-sample-data/raw/main/batch12.pdf) or use the same code block above to download it programmatically. Replace batch1 with batch12, then rerun the same ingest command above. When it's successful, you will see both records listed in the available documents dataframe."
   ],
   "cell_type": "markdown",
   "metadata": {}
  },
  {
   "cell_type": "code",
   "execution_count": null,
   "metadata": {},
   "outputs": [],
   "source": [
    "df = fd.available_documents()"
   ]
  },
  {
   "source": [
    "# Use the Digitized Data\n",
    "\n",
    "The extracted data is also returned in a pandas dataframe so it’s quickly available for custom analysis."
   ],
   "cell_type": "markdown",
   "metadata": {}
  },
  {
   "cell_type": "code",
   "execution_count": null,
   "metadata": {},
   "outputs": [],
   "source": [
    "doc = fd.get_document(new_doc_id)\n",
    "materials = doc.get_materials_df()\n",
    "materials.head()"
   ]
  },
  {
   "cell_type": "code",
   "execution_count": null,
   "metadata": {},
   "outputs": [],
   "source": [
    "parameters = doc.get_parameters_df()\n",
    "parameters.head()"
   ]
  },
  {
   "source": [
    "Next you can try some [statistical process control analytics](https://docs.fathom.one/process-validation.html) using this data."
   ],
   "cell_type": "markdown",
   "metadata": {}
  },
  {
   "cell_type": "code",
   "execution_count": null,
   "metadata": {},
   "outputs": [],
   "source": []
  }
 ],
 "metadata": {
  "hide_input": false,
  "kernelspec": {
   "display_name": "Python 3 (ipykernel)",
   "language": "python",
   "name": "python3"
  },
  "language_info": {
   "codemirror_mode": {
    "name": "ipython",
    "version": 3
   },
   "file_extension": ".py",
   "mimetype": "text/x-python",
   "name": "python",
   "nbconvert_exporter": "python",
   "pygments_lexer": "ipython3",
   "version": "3.8.2"
  }
 },
 "nbformat": 4,
 "nbformat_minor": 5
}